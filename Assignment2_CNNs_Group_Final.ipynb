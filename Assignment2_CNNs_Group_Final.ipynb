{
 "cells": [
  {
   "cell_type": "code",
   "execution_count": null,
   "outputs": [],
   "source": [
    "import cv2\n",
    "from glob import glob\n",
    "import numpy as np\n",
    "from matplotlib import pyplot as plt\n",
    "import pandas as pd"
   ],
   "metadata": {
    "collapsed": false,
    "pycharm": {
     "name": "#%%\n"
    }
   }
  },
  {
   "cell_type": "code",
   "execution_count": null,
   "outputs": [],
   "source": [
    "scale_to = 100  # pixel of image to re-scale\n",
    "num_of_seed = 7  # fixing random seeds\n",
    "\n",
    "file_path = '/kaggle/input/plant-seedlings-classification/train/*/*.png'\n",
    "train_images = glob(file_path)"
   ],
   "metadata": {
    "collapsed": false,
    "pycharm": {
     "name": "#%%\n"
    }
   }
  },
  {
   "cell_type": "code",
   "execution_count": null,
   "outputs": [],
   "source": [
    "train_images"
   ],
   "metadata": {
    "collapsed": false,
    "pycharm": {
     "name": "#%%\n"
    }
   }
  },
  {
   "cell_type": "code",
   "execution_count": null,
   "outputs": [],
   "source": [
    "train_img_array = []\n",
    "train_label_array = []\n",
    "count = 1\n",
    "num = len(train_images)\n",
    "\n",
    "# Image resizing, get all labels\n",
    "for img in train_images:\n",
    "    print(str(count) + \"/\" + str(num), end=\"\\r\")\n",
    "    train_img_array.append(cv2.resize(cv2.imread(img), (scale_to, scale_to)))  # Get image (with resizing)\n",
    "    img_array = img.split('/')\n",
    "    train_label_array.append(img_array[5]) # image type\n",
    "    count += 1\n",
    "\n",
    "train_images = np.asarray(train_img_array)  # Train images set\n",
    "train_labels = pd.DataFrame(train_label_array)  # Train labels set"
   ],
   "metadata": {
    "collapsed": false,
    "pycharm": {
     "name": "#%%\n"
    }
   }
  },
  {
   "cell_type": "code",
   "execution_count": null,
   "outputs": [],
   "source": [
    "for count in range(8):\n",
    "    plt.subplot(2, 4, count + 1)\n",
    "    plt.imshow(train_images[count])"
   ],
   "metadata": {
    "collapsed": false,
    "pycharm": {
     "name": "#%%\n"
    }
   }
  },
  {
   "cell_type": "code",
   "execution_count": null,
   "outputs": [],
   "source": [
    "cleaned_train_images = []\n",
    "show_samples = True\n",
    "for img in train_images:\n",
    "    # gaussian blur\n",
    "    blur_img = cv2.GaussianBlur(img, (5, 5), 0)\n",
    "\n",
    "    # convert to HSV image\n",
    "    hsvImg = cv2.cvtColor(blur_img, cv2.COLOR_BGR2HSV)\n",
    "\n",
    "    # Create mask (parameters - green color range)\n",
    "    lower_green = (25, 41, 50)\n",
    "    upper_green = (74, 255, 255)\n",
    "    mask = cv2.inRange(hsvImg, lower_green, upper_green)\n",
    "    kernel = cv2.getStructuringElement(cv2.MORPH_ELLIPSE, (11, 11))\n",
    "    mask = cv2.morphologyEx(mask, cv2.MORPH_CLOSE, kernel)\n",
    "\n",
    "    # Create bool mask\n",
    "    bMask = mask > 0\n",
    "\n",
    "    # Apply the mask\n",
    "    cleaned = np.zeros_like(img, np.uint8)  # Create empty image\n",
    "    cleaned[bMask] = img[bMask]  # Apply boolean mask to the origin image\n",
    "\n",
    "    cleaned_train_images.append(cleaned)  # Append image without backgroung\n",
    "\n",
    "    # Show examples\n",
    "    if show_samples:\n",
    "        plt.subplot(2, 3, 1); plt.imshow(img)  # Show the original image\n",
    "        plt.subplot(2, 3, 2); plt.imshow(blur_img)  # Blur image\n",
    "        plt.subplot(2, 3, 3); plt.imshow(hsvImg)  # HSV image\n",
    "        plt.subplot(2, 3, 4); plt.imshow(mask)  # Mask\n",
    "        plt.subplot(2, 3, 5); plt.imshow(bMask)  # Boolean mask\n",
    "        plt.subplot(2, 3, 6); plt.imshow(cleaned)  # Image without background\n",
    "        show_samples = False\n",
    "\n",
    "cleaned_train_img = np.asarray(cleaned_train_images)"
   ],
   "metadata": {
    "collapsed": false,
    "pycharm": {
     "name": "#%%\n"
    }
   }
  },
  {
   "cell_type": "code",
   "execution_count": null,
   "outputs": [],
   "source": [
    "for i in range(8):\n",
    "    plt.subplot(2, 4, i + 1)\n",
    "    plt.imshow(cleaned_train_img[i])"
   ],
   "metadata": {
    "collapsed": false,
    "pycharm": {
     "name": "#%%\n"
    }
   }
  },
  {
   "cell_type": "code",
   "execution_count": null,
   "outputs": [],
   "source": [
    "cleaned_train_imgs = cleaned_train_img / 255"
   ],
   "metadata": {
    "collapsed": false,
    "pycharm": {
     "name": "#%%\n"
    }
   }
  },
  {
   "cell_type": "code",
   "execution_count": null,
   "outputs": [],
   "source": [
    "from keras.utils import np_utils\n",
    "from sklearn import preprocessing\n",
    "import matplotlib.pyplot as plt\n",
    "\n",
    "# Encode labels and create classes\n",
    "le = preprocessing.LabelEncoder()\n",
    "le.fit(train_labels[0])\n",
    "print(\"Classes: \" + str(le.classes_))\n",
    "encode_train_labels = le.transform(train_labels[0])\n",
    "\n",
    "# Make labels categorical\n",
    "cleaned_train_label = np_utils.to_categorical(encode_train_labels)\n",
    "num_classes = cleaned_train_label.shape[1]\n",
    "print(\"num of classes: \" + str(num_classes))\n",
    "\n",
    "# Plot of label types numbers\n",
    "train_labels[0].value_counts().plot(kind='bar')"
   ],
   "metadata": {
    "collapsed": false,
    "pycharm": {
     "name": "#%%\n"
    }
   }
  },
  {
   "cell_type": "code",
   "execution_count": null,
   "outputs": [],
   "source": [
    "from sklearn.model_selection import train_test_split\n",
    "\n",
    "trainX, testX, trainY, testY = train_test_split(cleaned_train_imgs, cleaned_train_label,\n",
    "                                                test_size=0.2, random_state=num_of_seed,\n",
    "                                                stratify = cleaned_train_label)"
   ],
   "metadata": {
    "collapsed": false,
    "pycharm": {
     "name": "#%%\n"
    }
   }
  },
  {
   "cell_type": "code",
   "execution_count": null,
   "outputs": [],
   "source": [
    "from keras.preprocessing.image import ImageDataGenerator\n",
    "data_gen = ImageDataGenerator(\n",
    "        rotation_range=180,  # randomly rotate images in the range\n",
    "        zoom_range = 0.1, # Randomly zoom image\n",
    "        width_shift_range=0.1,  # randomly shift images horizontally\n",
    "        height_shift_range=0.1,  # randomly shift images vertically\n",
    "        horizontal_flip=True,  # randomly flip images horizontally\n",
    "        vertical_flip=True  # randomly flip images vertically\n",
    "    )\n",
    "data_gen.fit(trainX)"
   ],
   "metadata": {
    "collapsed": false,
    "pycharm": {
     "name": "#%%\n"
    }
   }
  },
  {
   "cell_type": "code",
   "execution_count": null,
   "outputs": [],
   "source": [
    "import numpy\n",
    "from keras.models import Sequential\n",
    "from keras.layers import Dense\n",
    "from keras.layers import Dropout\n",
    "from keras.layers import Flatten\n",
    "from keras.layers.convolutional import Conv2D\n",
    "from keras.layers.convolutional import MaxPooling2D\n",
    "from keras.layers import BatchNormalization\n",
    "\n",
    "numpy.random.num_of_seed(num_of_seed)  # num_of_seed\n",
    "\n",
    "model = Sequential()\n",
    "\n",
    "model.add(Conv2D(filters=64, kernel_size=(5, 5), input_shape=(scale_to, scale_to, 3), activation='relu'))\n",
    "model.add(BatchNormalization(axis=3))\n",
    "model.add(Conv2D(filters=64, kernel_size=(5, 5), activation='relu'))\n",
    "model.add(MaxPooling2D((2, 2)))\n",
    "model.add(BatchNormalization(axis=3))\n",
    "model.add(Dropout(0.1))\n",
    "\n",
    "model.add(Conv2D(filters=128, kernel_size=(5, 5), activation='relu'))\n",
    "model.add(BatchNormalization(axis=3))\n",
    "model.add(Conv2D(filters=128, kernel_size=(5, 5), activation='relu'))\n",
    "model.add(MaxPooling2D((2, 2)))\n",
    "model.add(BatchNormalization(axis=3))\n",
    "model.add(Dropout(0.1))\n",
    "\n",
    "model.add(Conv2D(filters=256, kernel_size=(5, 5), activation='relu'))\n",
    "model.add(BatchNormalization(axis=3))\n",
    "model.add(Conv2D(filters=256, kernel_size=(5, 5), activation='relu'))\n",
    "model.add(MaxPooling2D((2, 2)))\n",
    "model.add(BatchNormalization(axis=3))\n",
    "model.add(Dropout(0.1))\n",
    "\n",
    "model.add(Flatten())\n",
    "\n",
    "model.add(Dense(256, activation='relu'))\n",
    "model.add(BatchNormalization())\n",
    "model.add(Dropout(0.5))\n",
    "\n",
    "model.add(Dense(256, activation='relu'))\n",
    "model.add(BatchNormalization())\n",
    "model.add(Dropout(0.5))\n",
    "\n",
    "model.add(Dense(num_classes, activation='softmax'))\n",
    "\n",
    "model.summary()\n",
    "\n",
    "# compile model\n",
    "model.compile(loss='categorical_crossentropy', optimizer='adam', metrics=['accuracy'])"
   ],
   "metadata": {
    "collapsed": false,
    "pycharm": {
     "name": "#%%\n"
    }
   }
  },
  {
   "cell_type": "code",
   "execution_count": null,
   "outputs": [],
   "source": [
    "from keras.callbacks import ModelCheckpoint, ReduceLROnPlateau, CSVLogger\n",
    "\n",
    "# learning rate reduction\n",
    "learning_rate_reduction = ReduceLROnPlateau(monitor='val_accuracy',\n",
    "                                            patience=3,\n",
    "                                            verbose=1,\n",
    "                                            factor=0.4,\n",
    "                                            min_lr=0.00001)\n",
    "\n",
    "# add check points\n",
    "file_path = \"/kaggle/working/weights.best_{epoch:02d}-{val_accuracy:.2f}.hdf5\"\n",
    "\n",
    "check_point = ModelCheckpoint(file_path, monitor='val_accuracy',\n",
    "                             verbose=1, save_best_only=True, mode='max')\n",
    "\n",
    "file_path = \"/kaggle/working/weights.last_auto4.hdf5\"\n",
    "checkpoint_all = ModelCheckpoint(file_path, monitor='val_accuracy',\n",
    "                                 verbose=1, save_best_only=False, mode='max')\n",
    "\n",
    "# all callbacks\n",
    "callbacks_list = [check_point, learning_rate_reduction, checkpoint_all]\n",
    "\n",
    "# fit model\n",
    "hist = model.fit_generator(data_gen.flow(trainX, trainY, batch_size=75), epochs=35, validation_data=(testX, testY), callbacks=callbacks_list)"
   ],
   "metadata": {
    "collapsed": false,
    "pycharm": {
     "name": "#%%\n"
    }
   }
  },
  {
   "cell_type": "code",
   "execution_count": null,
   "outputs": [],
   "source": [
    "model.load_weights(\"/kaggle/working/weights.last_auto4.hdf5\")"
   ],
   "metadata": {
    "collapsed": false,
    "pycharm": {
     "name": "#%%\n"
    }
   }
  },
  {
   "cell_type": "code",
   "execution_count": null,
   "outputs": [],
   "source": [
    "print(model.evaluate(trainX, trainY))  # evaluate on train set\n",
    "print(model.evaluate(testX, testY))  # evaluate on test set"
   ],
   "metadata": {
    "collapsed": false,
    "pycharm": {
     "name": "#%%\n"
    }
   }
  },
  {
   "cell_type": "code",
   "execution_count": null,
   "outputs": [],
   "source": [
    "from sklearn.metrics import confusion_matrix\n",
    "import itertools\n",
    "\n",
    "def plot_confusion_matrix(cm, classes,\n",
    "                          normalize = False,\n",
    "                          title = 'Confusion matrix',\n",
    "                          cmap = plt.cm.Blues):\n",
    "\n",
    "    fig = plt.figure(figsize=(10,10))\n",
    "    plt.imshow(cm, interpolation='nearest', cmap=cmap)\n",
    "    plt.title(title)\n",
    "    plt.colorbar()\n",
    "    tick_marks = np.arange(len(classes))\n",
    "    plt.xticks(tick_marks, classes, rotation=90)\n",
    "    plt.yticks(tick_marks, classes)\n",
    "\n",
    "    if normalize:\n",
    "        cm = cm.astype('float') / cm.sum(axis=1)[:, np.newaxis]\n",
    "\n",
    "    thresh = cm.max() / 2.\n",
    "    for i, j in itertools.product(range(cm.shape[0]), range(cm.shape[1])):\n",
    "        plt.text(j, i, cm[i, j],\n",
    "                 horizontalalignment=\"center\",\n",
    "                 color=\"white\" if cm[i, j] > thresh else \"black\")\n",
    "\n",
    "    plt.tight_layout()\n",
    "    plt.ylabel('True label')\n",
    "    plt.xlabel('Predicted label')\n",
    "\n",
    "# Predict the values from the validation dataset\n",
    "pred_y = model.predict(testX)\n",
    "pred_y_classes = np.argmax(pred_y, axis = 1)\n",
    "true_y = np.argmax(testY, axis = 1)\n",
    "\n",
    "# confusion matrix\n",
    "confusion_MTX = confusion_matrix(true_y, pred_y_classes)\n",
    "\n",
    "# plot the confusion matrix\n",
    "plot_confusion_matrix(confusion_MTX, classes = le.classes_)"
   ],
   "metadata": {
    "collapsed": false,
    "pycharm": {
     "name": "#%%\n"
    }
   }
  },
  {
   "cell_type": "code",
   "execution_count": null,
   "outputs": [],
   "source": [
    "test_images_path = '/kaggle/input/plant-seedlings-classification/test/*.png'\n",
    "test_images = glob(test_images_path)"
   ],
   "metadata": {
    "collapsed": false,
    "pycharm": {
     "name": "#%%\n"
    }
   }
  },
  {
   "cell_type": "code",
   "execution_count": null,
   "outputs": [],
   "source": [
    "test_img_array = []\n",
    "test_id_array = []\n",
    "count = 1\n",
    "num = len(test_images)\n",
    "\n",
    "# Obtain images and resizing, obtain labels\n",
    "for img in test_images:\n",
    "    print(\"Obtain images: \" + str(count) + \"/\" + str(num), end='\\r')\n",
    "    img_array = img.split('/')\n",
    "    test_id_array.append(img_array[5]) # image id\n",
    "    test_img_array.append(cv2.resize(cv2.imread(img), (scale_to, scale_to)))\n",
    "    count += 1\n",
    "\n",
    "test_imgs = np.asarray(test_img_array)  # Train images set\n",
    "\n",
    "for i in range(8):\n",
    "    plt.subplot(2, 4, i + 1)\n",
    "    plt.imshow(test_imgs[i])"
   ],
   "metadata": {
    "collapsed": false,
    "pycharm": {
     "name": "#%%\n"
    }
   }
  },
  {
   "cell_type": "code",
   "execution_count": null,
   "outputs": [],
   "source": [
    "cleaned_test_img = []\n",
    "show_samples = True\n",
    "for img in test_imgs:\n",
    "    # gaussian blur\n",
    "    blur_img = cv2.GaussianBlur(img, (5, 5), 0)\n",
    "\n",
    "    # convert to HSV image\n",
    "    hsvImg = cv2.cvtColor(blur_img, cv2.COLOR_BGR2HSV)\n",
    "\n",
    "    # create mask (parameters - green color range)\n",
    "    lower_green = (25, 41, 50)\n",
    "    upper_green = (74, 255, 255)\n",
    "    mask = cv2.inRange(hsvImg, lower_green, upper_green)\n",
    "    kernel = cv2.getStructuringElement(cv2.MORPH_ELLIPSE, (11, 11))\n",
    "    mask = cv2.morphologyEx(mask, cv2.MORPH_CLOSE, kernel)\n",
    "\n",
    "    # create bool mask\n",
    "    bMask = mask > 0\n",
    "\n",
    "    # Apply the mask\n",
    "    cleaned = np.zeros_like(img, np.uint8)  # Create empty image\n",
    "    cleaned[bMask] = img[bMask]  # Apply boolean mask to the origin image\n",
    "\n",
    "    cleaned_test_img.append(cleaned)  # Append image without background\n",
    "\n",
    "    # Show examples\n",
    "    if show_samples:\n",
    "        plt.subplot(2, 3, 1); plt.imshow(img)  # Show the original image\n",
    "        plt.subplot(2, 3, 2); plt.imshow(blur_img)  # Blur image\n",
    "        plt.subplot(2, 3, 3); plt.imshow(hsvImg)  # HSV image\n",
    "        plt.subplot(2, 3, 4); plt.imshow(mask)  # Mask\n",
    "        plt.subplot(2, 3, 5); plt.imshow(bMask)  # Boolean mask\n",
    "        plt.subplot(2, 3, 6); plt.imshow(cleaned)  # Image without background\n",
    "        show_samples = False\n",
    "\n",
    "cleaned_test_img = np.asarray(cleaned_test_img)"
   ],
   "metadata": {
    "collapsed": false,
    "pycharm": {
     "name": "#%%\n"
    }
   }
  },
  {
   "cell_type": "code",
   "execution_count": null,
   "outputs": [],
   "source": [
    "# Show sample result\n",
    "for i in range(8):\n",
    "    plt.subplot(2, 4, i + 1)\n",
    "    plt.imshow(cleaned_test_img[i])"
   ],
   "metadata": {
    "collapsed": false,
    "pycharm": {
     "name": "#%%\n"
    }
   }
  },
  {
   "cell_type": "code",
   "execution_count": null,
   "outputs": [],
   "source": [
    "cleaned_test_img = cleaned_test_img / 255"
   ],
   "metadata": {
    "collapsed": false,
    "pycharm": {
     "name": "#%%\n"
    }
   }
  },
  {
   "cell_type": "code",
   "execution_count": null,
   "outputs": [],
   "source": [
    "pred = model.predict(cleaned_test_img)"
   ],
   "metadata": {
    "collapsed": false,
    "pycharm": {
     "name": "#%%\n"
    }
   }
  },
  {
   "cell_type": "code",
   "execution_count": null,
   "outputs": [],
   "source": [
    "# Write result to file\n",
    "predNum = np.argmax(pred, axis=1)\n",
    "predStr = le.classes_[predNum]\n",
    "\n",
    "res = {'file': test_id_array, 'species': predStr}\n",
    "res = pd.DataFrame(res)\n"
   ],
   "metadata": {
    "collapsed": false,
    "pycharm": {
     "name": "#%%\n"
    }
   }
  },
  {
   "cell_type": "code",
   "execution_count": null,
   "outputs": [],
   "source": [
    "res.to_csv(\"/kaggle/working/result_v2.csv\", index=False)"
   ],
   "metadata": {
    "collapsed": false,
    "pycharm": {
     "name": "#%%\n"
    }
   }
  },
  {
   "cell_type": "markdown",
   "source": [
    "# Transfer Learning"
   ],
   "metadata": {
    "collapsed": false
   }
  },
  {
   "cell_type": "code",
   "execution_count": null,
   "outputs": [],
   "source": [
    "import pandas as pd\n",
    "from IPython.core.interactiveshell import InteractiveShell\n",
    "InteractiveShell.ast_node_interactivity = \"all\"\n",
    "\n",
    "import matplotlib.pyplot as plt\n",
    "import numpy as np\n",
    "from keras import applications\n",
    "from keras.preprocessing.image import ImageDataGenerator\n",
    "from keras import optimizers\n",
    "from keras.models import Model\n",
    "from keras.layers import Dropout, Flatten, Dense\n",
    "from keras.callbacks import ModelCheckpoint, EarlyStopping"
   ],
   "metadata": {
    "collapsed": false,
    "pycharm": {
     "name": "#%%\n"
    }
   }
  },
  {
   "cell_type": "code",
   "execution_count": null,
   "outputs": [],
   "source": [
    "model = applications.VGG19(weights = \"imagenet\", include_top=False, input_shape = (70, 70, 3))\n",
    "for layer in model.layers[:5]:\n",
    "    layer.trainable = False\n",
    "\n",
    "val = model.output\n",
    "val = Flatten()(val)\n",
    "val = Dense(1024, activation=\"relu\")(val)\n",
    "val = Dropout(0.5)(val)\n",
    "val = Dense(1024, activation=\"relu\")(val)\n",
    "val = Dropout(0.5)(val)\n",
    "predictions = Dense(12, activation=\"softmax\")(val)\n",
    "\n",
    "model_final = Model(input = model.input, output = predictions)\n",
    "\n",
    "model_final.compile(loss = \"categorical_crossentropy\", optimizer = optimizers.SGD(lr=0.0001, momentum=0.9), metrics=[\"accuracy\"])\n",
    "model_final.summary()"
   ],
   "metadata": {
    "collapsed": false,
    "pycharm": {
     "name": "#%%\n"
    }
   }
  },
  {
   "cell_type": "code",
   "execution_count": null,
   "outputs": [],
   "source": [
    "images_generator = ImageDataGenerator(\n",
    "            rotation_range=360,\n",
    "            width_shift_range=0.3,\n",
    "            height_shift_range=0.3,\n",
    "            zoom_range=0.3,\n",
    "            horizontal_flip=True,\n",
    "            vertical_flip=True)"
   ],
   "metadata": {
    "collapsed": false,
    "pycharm": {
     "name": "#%%\n"
    }
   }
  },
  {
   "cell_type": "code",
   "execution_count": null,
   "outputs": [],
   "source": [
    "train_data_dir = \"/kaggle/input/plant-seedlings-classification/train/\"\n",
    "train_generator = images_generator.flow_from_directory(\n",
    "                        train_data_dir,\n",
    "                        target_size = (240, 240),\n",
    "                        batch_size = 16, \n",
    "                        class_mode = \"categorical\")"
   ],
   "metadata": {
    "collapsed": false,
    "pycharm": {
     "name": "#%%\n"
    }
   }
  },
  {
   "cell_type": "code",
   "execution_count": null,
   "outputs": [],
   "source": [
    "train_generator.n"
   ],
   "metadata": {
    "collapsed": false,
    "pycharm": {
     "name": "#%%\n"
    }
   }
  },
  {
   "cell_type": "code",
   "execution_count": null,
   "outputs": [],
   "source": [
    "from sklearn.model_selection import train_test_split"
   ],
   "metadata": {
    "collapsed": false,
    "pycharm": {
     "name": "#%%\n"
    }
   }
  },
  {
   "cell_type": "code",
   "execution_count": null,
   "outputs": [],
   "source": [
    "train, val = train_test_split( train_generator, test_size=0.3, random_state=42)"
   ],
   "metadata": {
    "collapsed": false,
    "pycharm": {
     "name": "#%%\n"
    }
   }
  },
  {
   "cell_type": "code",
   "execution_count": null,
   "outputs": [],
   "source": [
    "checkpoint = ModelCheckpoint(\"/kaggle/working/vgg16_withvalid.h5\", monitor='loss', verbose=1,\n",
    "                             save_best_only=True, save_weights_only=False, mode='auto', period=1)\n",
    "early = EarlyStopping(monitor='loss', min_delta=0, patience=10, verbose=1, mode='auto')"
   ],
   "metadata": {
    "collapsed": false,
    "pycharm": {
     "name": "#%%\n"
    }
   }
  },
  {
   "cell_type": "code",
   "execution_count": null,
   "outputs": [],
   "source": [
    "batch_size = 16\n",
    "STEP_SIZE_TRAIN=len(trainX)/batch_size\n",
    "STEP_SIZE_VALID=len(testX)/batch_size\n",
    "trainX, testX, trainY, testY\n",
    "model_final.fit_generator(\n",
    "                    data_gen.flow(trainX, trainY, batch_size=16),\n",
    "                    validation_data=(testX,testY),\n",
    "                    steps_per_epoch=STEP_SIZE_TRAIN,\n",
    "                    validation_steps=STEP_SIZE_VALID,\n",
    "                    epochs = 50,\n",
    "                    shuffle= True,\n",
    "                    callbacks = [checkpoint, early])"
   ],
   "metadata": {
    "collapsed": false,
    "pycharm": {
     "name": "#%%\n"
    }
   }
  },
  {
   "cell_type": "code",
   "execution_count": null,
   "outputs": [],
   "source": [
    "pred = model_final.predict(cleaned_test_img)\n",
    "# write result to file\n",
    "pred_num = np.argmax(pred, axis=1)\n",
    "predStr = le.classes_[pred_num]\n",
    "\n",
    "res = {'file': test_id_array, 'species': predStr}\n",
    "res = pd.DataFrame(res)"
   ],
   "metadata": {
    "collapsed": false,
    "pycharm": {
     "name": "#%%\n"
    }
   }
  },
  {
   "cell_type": "code",
   "execution_count": null,
   "outputs": [],
   "source": [
    "print(model_final.evaluate(trainX, trainY))  # Evaluate on train set\n",
    "print(model_final.evaluate(testX, testY)) "
   ],
   "metadata": {
    "collapsed": false,
    "pycharm": {
     "name": "#%%\n"
    }
   }
  },
  {
   "cell_type": "code",
   "execution_count": null,
   "outputs": [],
   "source": [
    "res.to_csv(\"/kaggle/working/result_v2.1.csv\", index=False)"
   ],
   "metadata": {
    "collapsed": false,
    "pycharm": {
     "name": "#%%\n"
    }
   }
  },
  {
   "cell_type": "code",
   "execution_count": null,
   "outputs": [],
   "source": [],
   "metadata": {
    "collapsed": false,
    "pycharm": {
     "name": "#%%\n"
    }
   }
  }
 ],
 "metadata": {
  "kernelspec": {
   "display_name": "Python 3",
   "language": "python",
   "name": "python3"
  },
  "language_info": {
   "codemirror_mode": {
    "name": "ipython",
    "version": 3
   },
   "file_extension": ".py",
   "mimetype": "text/x-python",
   "name": "python",
   "nbconvert_exporter": "python",
   "pygments_lexer": "ipython3",
   "version": "3.7.6"
  }
 },
 "nbformat": 4,
 "nbformat_minor": 2
}